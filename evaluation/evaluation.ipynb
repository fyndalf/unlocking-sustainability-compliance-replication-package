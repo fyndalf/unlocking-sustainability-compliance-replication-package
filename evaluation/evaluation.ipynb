{
 "cells": [
  {
   "cell_type": "code",
   "execution_count": 1,
   "metadata": {},
   "outputs": [],
   "source": [
    "import pandas as pd\n",
    "df2 = pd.read_hdf(\"manual_dataframe_2.h5\")\n",
    "df3 = pd.read_hdf(\"manual_dataframe_3.h5\")\n",
    "df4 = pd.read_hdf(\"manual_dataframe_4.h5\")\n",
    "df5 = pd.read_hdf(\"manual_dataframe_5.h5\")"
   ]
  },
  {
   "cell_type": "code",
   "execution_count": 4,
   "metadata": {},
   "outputs": [
    {
     "data": {
      "text/plain": [
       "mean      1.44898\n",
       "median    2.00000\n",
       "Name: plausibility, dtype: float64"
      ]
     },
     "execution_count": 4,
     "metadata": {},
     "output_type": "execute_result"
    }
   ],
   "source": [
    "overall_df = pd.concat([df2, df3, df4, df5])\n",
    "overall_df[\"plausibility\"] = pd.to_numeric(overall_df[\"plausibility\"])\n",
    "overall_df[\"plausibility\"].agg([\"mean\",\"median\"])"
   ]
  },
  {
   "cell_type": "code",
   "execution_count": 5,
   "metadata": {},
   "outputs": [
    {
     "data": {
      "text/plain": [
       "plausibility\n",
       "0    33\n",
       "1     8\n",
       "2    37\n",
       "3    20\n",
       "Name: plausibility, dtype: int64"
      ]
     },
     "execution_count": 5,
     "metadata": {},
     "output_type": "execute_result"
    }
   ],
   "source": [
    "overall_df.groupby(\"plausibility\")[\"plausibility\"].count()"
   ]
  },
  {
   "cell_type": "code",
   "execution_count": 3,
   "metadata": {},
   "outputs": [
    {
     "name": "stderr",
     "output_type": "stream",
     "text": [
      "C:\\Users\\Finn\\AppData\\Local\\Temp\\ipykernel_27532\\3333703489.py:2: FutureWarning: Starting with pandas version 3.0 all arguments of to_excel except for the argument 'excel_writer' will be keyword-only.\n",
      "  df2.to_excel(writer, \"Water\")\n",
      "C:\\Users\\Finn\\AppData\\Local\\Temp\\ipykernel_27532\\3333703489.py:3: FutureWarning: Starting with pandas version 3.0 all arguments of to_excel except for the argument 'excel_writer' will be keyword-only.\n",
      "  df3.to_excel(writer, \"Circular economy\")\n",
      "C:\\Users\\Finn\\AppData\\Local\\Temp\\ipykernel_27532\\3333703489.py:4: FutureWarning: Starting with pandas version 3.0 all arguments of to_excel except for the argument 'excel_writer' will be keyword-only.\n",
      "  df4.to_excel(writer, \"Pollution\")\n",
      "C:\\Users\\Finn\\AppData\\Local\\Temp\\ipykernel_27532\\3333703489.py:5: FutureWarning: Starting with pandas version 3.0 all arguments of to_excel except for the argument 'excel_writer' will be keyword-only.\n",
      "  df5.to_excel(writer, \"Biodiversity\")\n"
     ]
    }
   ],
   "source": [
    "with pd.ExcelWriter('./output_evaluation_.xlsx') as writer:\n",
    "    df2.to_excel(writer, \"Water\")\n",
    "    df3.to_excel(writer, \"Circular economy\")\n",
    "    df4.to_excel(writer, \"Pollution\")\n",
    "    df5.to_excel(writer, \"Biodiversity\")"
   ]
  }
 ],
 "metadata": {
  "kernelspec": {
   "display_name": "Python 3",
   "language": "python",
   "name": "python3"
  },
  "language_info": {
   "codemirror_mode": {
    "name": "ipython",
    "version": 3
   },
   "file_extension": ".py",
   "mimetype": "text/x-python",
   "name": "python",
   "nbconvert_exporter": "python",
   "pygments_lexer": "ipython3",
   "version": "3.12.1"
  }
 },
 "nbformat": 4,
 "nbformat_minor": 2
}
